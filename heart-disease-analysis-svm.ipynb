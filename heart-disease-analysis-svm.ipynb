{
 "cells": [
  {
   "cell_type": "code",
   "execution_count": 1,
   "id": "3ada5d98",
   "metadata": {
    "_execution_state": "idle",
    "_uuid": "051d70d956493feee0c6d64651c6a088724dca2a",
    "execution": {
     "iopub.execute_input": "2024-12-03T01:33:23.711495Z",
     "iopub.status.busy": "2024-12-03T01:33:23.708996Z",
     "iopub.status.idle": "2024-12-03T01:33:25.154172Z",
     "shell.execute_reply": "2024-12-03T01:33:25.152090Z"
    },
    "papermill": {
     "duration": 1.456357,
     "end_time": "2024-12-03T01:33:25.157634",
     "exception": false,
     "start_time": "2024-12-03T01:33:23.701277",
     "status": "completed"
    },
    "tags": []
   },
   "outputs": [
    {
     "name": "stderr",
     "output_type": "stream",
     "text": [
      "── \u001b[1mAttaching core tidyverse packages\u001b[22m ──────────────────────── tidyverse 2.0.0 ──\n",
      "\u001b[32m✔\u001b[39m \u001b[34mdplyr    \u001b[39m 1.1.4     \u001b[32m✔\u001b[39m \u001b[34mreadr    \u001b[39m 2.1.5\n",
      "\u001b[32m✔\u001b[39m \u001b[34mforcats  \u001b[39m 1.0.0     \u001b[32m✔\u001b[39m \u001b[34mstringr  \u001b[39m 1.5.1\n",
      "\u001b[32m✔\u001b[39m \u001b[34mggplot2  \u001b[39m 3.5.1     \u001b[32m✔\u001b[39m \u001b[34mtibble   \u001b[39m 3.2.1\n",
      "\u001b[32m✔\u001b[39m \u001b[34mlubridate\u001b[39m 1.9.3     \u001b[32m✔\u001b[39m \u001b[34mtidyr    \u001b[39m 1.3.1\n",
      "\u001b[32m✔\u001b[39m \u001b[34mpurrr    \u001b[39m 1.0.2     \n"
     ]
    },
    {
     "name": "stderr",
     "output_type": "stream",
     "text": [
      "── \u001b[1mConflicts\u001b[22m ────────────────────────────────────────── tidyverse_conflicts() ──\n",
      "\u001b[31m✖\u001b[39m \u001b[34mdplyr\u001b[39m::\u001b[32mfilter()\u001b[39m masks \u001b[34mstats\u001b[39m::filter()\n",
      "\u001b[31m✖\u001b[39m \u001b[34mdplyr\u001b[39m::\u001b[32mlag()\u001b[39m    masks \u001b[34mstats\u001b[39m::lag()\n",
      "\u001b[36mℹ\u001b[39m Use the conflicted package (\u001b[3m\u001b[34m<http://conflicted.r-lib.org/>\u001b[39m\u001b[23m) to force all conflicts to become errors\n"
     ]
    },
    {
     "data": {
      "text/html": [
       "'heart-disease-predictiondb'"
      ],
      "text/latex": [
       "'heart-disease-predictiondb'"
      ],
      "text/markdown": [
       "'heart-disease-predictiondb'"
      ],
      "text/plain": [
       "[1] \"heart-disease-predictiondb\""
      ]
     },
     "metadata": {},
     "output_type": "display_data"
    }
   ],
   "source": [
    "# This R environment comes with many helpful analytics packages installed\n",
    "# It is defined by the kaggle/rstats Docker image: https://github.com/kaggle/docker-rstats\n",
    "# For example, here's a helpful package to load\n",
    "\n",
    "library(tidyverse) # metapackage of all tidyverse packages\n",
    "\n",
    "# Input data files are available in the read-only \"../input/\" directory\n",
    "# For example, running this (by clicking run or pressing Shift+Enter) will list all files under the input directory\n",
    "\n",
    "list.files(path = \"../input\")\n",
    "\n",
    "# You can write up to 20GB to the current directory (/kaggle/working/) that gets preserved as output when you create a version using \"Save & Run All\" \n",
    "# You can also write temporary files to /kaggle/temp/, but they won't be saved outside of the current session"
   ]
  },
  {
   "cell_type": "code",
   "execution_count": 2,
   "id": "86ee63a2",
   "metadata": {
    "execution": {
     "iopub.execute_input": "2024-12-03T01:33:25.202361Z",
     "iopub.status.busy": "2024-12-03T01:33:25.168656Z",
     "iopub.status.idle": "2024-12-03T01:33:25.231539Z",
     "shell.execute_reply": "2024-12-03T01:33:25.229621Z"
    },
    "papermill": {
     "duration": 0.071996,
     "end_time": "2024-12-03T01:33:25.234120",
     "exception": false,
     "start_time": "2024-12-03T01:33:25.162124",
     "status": "completed"
    },
    "tags": []
   },
   "outputs": [],
   "source": [
    "\n",
    "file_path <- \"/kaggle/input/heart-disease-predictiondb/Heart_Disease_Prediction.csv\"\n",
    "HDP <- read.csv(file_path)\n",
    "set.seed(123)\n"
   ]
  },
  {
   "cell_type": "markdown",
   "id": "e9503599",
   "metadata": {
    "papermill": {
     "duration": 0.004245,
     "end_time": "2024-12-03T01:33:25.242716",
     "exception": false,
     "start_time": "2024-12-03T01:33:25.238471",
     "status": "completed"
    },
    "tags": []
   },
   "source": [
    "# Objectives: Find heart disease factors that can help identify high risk indivduals, USING SVM\n",
    "Predict whether or not someone has the presense of heart disease based on the predictors"
   ]
  },
  {
   "cell_type": "markdown",
   "id": "7856034c",
   "metadata": {
    "papermill": {
     "duration": 0.004209,
     "end_time": "2024-12-03T01:33:25.251231",
     "exception": false,
     "start_time": "2024-12-03T01:33:25.247022",
     "status": "completed"
    },
    "tags": []
   },
   "source": [
    "# Correlation and Correlation Coefficient\n",
    "<pre>\n",
    " Correlation (r) and Correlation Coefficent  (r^2) Explanations:\n",
    " * Correlation(r),values closer to 1 (positive association) and -1 (negative association) describe the strength associated between variables. \n",
    " * Coefficient of determination (r^2) will always be positive (max = 1) and tells you what percent of the indepdent variable explaisn what happend to the depent varriable.The closer r^2 is to 1, the better x explains y.'\n",
    "\n",
    "    A Thing to be aware of: For ordinal Ordinal_numerical values, ensrue that you are not using Pearsons cor() function. Should be using Spearman's. Ordinal values have order/rank. It's not based on distance but rather relationship. \n",
    "    Person measures strenght/direction of relatinoship between two variables. It may be why your correlation may be different that mine!\n",
    "\n",
    " </pre>\n",
    "\n",
    "\"Spearman’s rho is an excellent choice when you have ordinal data because Pearson’s is not appropriate. Ordinal data have at least three categories and the categories have a natural order. For example, first, second, and third in a race are ordinal data.\" (statisticsbyjim)\n",
    "https://statisticsbyjim.com/basics/spearmans-correlation/"
   ]
  },
  {
   "cell_type": "code",
   "execution_count": 3,
   "id": "aae47128",
   "metadata": {
    "execution": {
     "iopub.execute_input": "2024-12-03T01:33:25.263422Z",
     "iopub.status.busy": "2024-12-03T01:33:25.261779Z",
     "iopub.status.idle": "2024-12-03T01:33:25.333812Z",
     "shell.execute_reply": "2024-12-03T01:33:25.331524Z"
    },
    "papermill": {
     "duration": 0.081316,
     "end_time": "2024-12-03T01:33:25.336662",
     "exception": false,
     "start_time": "2024-12-03T01:33:25.255346",
     "status": "completed"
    },
    "tags": []
   },
   "outputs": [
    {
     "name": "stdout",
     "output_type": "stream",
     "text": [
      "                                      Attribute Correlation    R_squared\n",
      "Thallium                               Thallium  0.52527019 0.2759087675\n",
      "Number.of.vessels.fluro Number.of.vessels.fluro  0.48157290 0.2319124558\n",
      "Chest.pain.type                 Chest.pain.type  0.47006578 0.2209618397\n",
      "Exercise.angina                 Exercise.angina  0.41930271 0.1758147619\n",
      "Max.HR                                   Max.HR -0.41851397 0.1751539392\n",
      "ST.depression                     ST.depression  0.41796744 0.1746967786\n",
      "Slope.of.ST                         Slope.of.ST  0.36318164 0.1319009009\n",
      "Sex                                         Sex  0.29772076 0.0886376484\n",
      "Age                                         Age  0.22291432 0.0496907938\n",
      "EKG.results                         EKG.results  0.18207142 0.0331500019\n",
      "BP                                           BP  0.15538266 0.0241437698\n",
      "Cholesterol                         Cholesterol  0.11802053 0.0139288456\n",
      "FBS.over.120                       FBS.over.120 -0.01631883 0.0002663043\n"
     ]
    }
   ],
   "source": [
    "# Numerical continous columns are: age,bp,cholestral, max heart rate, st depression\n",
    "# binary columns are: Sex, FBS.over.120,Exercise.angina,Heart.disease \n",
    "# Ordinal Ordinal_numerical columns are: \"Chest.pain.type\", \"Thallium\", \"EKG.results\", \"Slope.of.ST\", \"Number.of.vessels.fluro\"\n",
    "\n",
    "# Convert Heart.Disease to binary\n",
    "HDP_Correlation <- HDP\n",
    "HDP_Correlation$Heart.Disease <- as.factor(HDP_Correlation$Heart.Disease)# convert Herat.Disease into a factor variable\n",
    "HDP_Correlation$Heart.Disease_binary <- ifelse(HDP_Correlation$Heart.Disease == \"Presence\", 1, 0)\n",
    "\n",
    "# Identify numeric columns\n",
    "numeric_columns <- names(HDP_Correlation)[sapply(HDP_Correlation, is.numeric)]  \n",
    "\n",
    "# identify binary columns\n",
    "binary_columns <- c(\"Sex\", \"FBS.over.120\", \"Exercise.angina\", \"Heart.Disease_binary\")\n",
    "numeric_columns <- setdiff(numeric_columns, binary_columns) # Exclude binary columns from numeric_columns\n",
    "# identify ordinal Ordinal_numerical columns\n",
    "Ordinal_numerical_columns <- c(\"Chest.pain.type\", \"Thallium\", \"EKG.results\", \"Slope.of.ST\", \"Number.of.vessels.fluro\")\n",
    "numeric_columns <- setdiff(numeric_columns, Ordinal_numerical_columns) # Exclude ordinal Ordinal_numerical columns from numeric_columns\n",
    "\n",
    "# Initialize scaled data as a copy of the original\n",
    "HDP_scaled <- HDP_Correlation #Initalize HDP_Scaled with HDP_Correlation(only heart.disease is changed here)\n",
    "# Scale only numeric continous columns\n",
    "HDP_scaled[numeric_columns] <- scale(HDP_Correlation[numeric_columns]) #only continous are scaled\n",
    "\n",
    "# Temporarily include Heart.Disease_binary for correlation computation\n",
    "numeric_columns_with_target <- c(numeric_columns, \"Heart.Disease_binary\")\n",
    "\n",
    "# Calculate correlation matrix for numeric columns (including Heart.Disease_binary)\n",
    "numeric_cor_matrix <- cor(HDP_scaled[, numeric_columns_with_target], use = \"complete.obs\")\n",
    "\n",
    "# Calculate correlation matrix for numeric columns \n",
    "#numeric_cor_matrix <- cor(HDP_scaled[, numeric_columns], use = \"complete.obs\")\n",
    "heart_disease_cor <- numeric_cor_matrix[\"Heart.Disease_binary\",-ncol(numeric_cor_matrix) ]\n",
    "\n",
    "# Create a data frame with the correlations and R^2 values\n",
    "numeric_cor_matrix_df <- data.frame(\n",
    "  Attribute = names(heart_disease_cor),\n",
    "  Correlation = heart_disease_cor,\n",
    "  R_squared = heart_disease_cor^2\n",
    ")\n",
    "\n",
    "############ Binary Correlation Matrix ###########\n",
    "# binary columns are: Sex, FBS.over.120,Exercise.angina,Heart.disease \n",
    "# Calculate Pearson correlation for ordinal features\n",
    "binary_columns_without_target <- setdiff(binary_columns, \"Heart.Disease_binary\")\n",
    "binary_cor_matrix <- sapply(HDP_Correlation[, binary_columns_without_target], function(x) cor(x, HDP_Correlation$Heart.Disease_binary))\n",
    "binary_cor_matrix_df <- data.frame(\n",
    "  Attribute = names(binary_cor_matrix),  \n",
    "  Correlation = binary_cor_matrix,\n",
    "  R_squared = binary_cor_matrix^2\n",
    ")\n",
    "                            \n",
    "############# Ordinal Ordinal_numerical Correlation Matrix #############\n",
    "#Ordinal Ordinal_numerical columns [Chest.pain.type(1:4), Thallium(3,6,7), EKG.results(0,1,2),Slope.of.ST (1,2,3), Number.of.vessels.fluro (0,1,2,3)]\n",
    "# Calculate Spearman correlation for ordinal features\n",
    "ordinal_cor_matrix <- sapply(HDP_Correlation[, Ordinal_numerical_columns], function(x) {\n",
    "  cor(as.numeric(x), HDP_Correlation$Heart.Disease_binary, method = \"spearman\")\n",
    "})\n",
    "ordinal_cor_matrix_df <- data.frame(\n",
    "  Attribute = names(ordinal_cor_matrix),  \n",
    "  Correlation = ordinal_cor_matrix,\n",
    "  R_squared = ordinal_cor_matrix^2\n",
    ")\n",
    "                          \n",
    "# Combine the three data frames\n",
    "combined_correlation <- rbind(\n",
    "  numeric_cor_matrix_df,                     # Numeric correlation matrix\n",
    "  ordinal_cor_matrix_df,                    # Ordinal correlation matrix\n",
    "    binary_cor_matrix_df                    # Binary correlation matrix\n",
    "   \n",
    ")\n",
    "\n",
    "# Sort the combined data frame by R_squared in descending order\n",
    "combined_correlation <- combined_correlation[order(-combined_correlation$R_squared), ]\n",
    "\n",
    "# Print the combined and sorted correlation matrix\n",
    "print(combined_correlation)"
   ]
  },
  {
   "cell_type": "code",
   "execution_count": 4,
   "id": "98b92281",
   "metadata": {
    "execution": {
     "iopub.execute_input": "2024-12-03T01:33:25.349448Z",
     "iopub.status.busy": "2024-12-03T01:33:25.347676Z",
     "iopub.status.idle": "2024-12-03T01:33:25.978972Z",
     "shell.execute_reply": "2024-12-03T01:33:25.976905Z"
    },
    "papermill": {
     "duration": 0.640434,
     "end_time": "2024-12-03T01:33:25.981508",
     "exception": false,
     "start_time": "2024-12-03T01:33:25.341074",
     "status": "completed"
    },
    "tags": []
   },
   "outputs": [
    {
     "data": {
      "image/png": "[encoded data removed]"
     },
     "metadata": {
      "image/png": {
       "height": 420,
       "width": 420
      }
     },
     "output_type": "display_data"
    }
   ],
   "source": [
    "# plot feature correlation\n",
    "library(ggplot2)\n",
    "ggplot(combined_correlation, aes(x = reorder(Attribute, R_squared), y = R_squared)) +\n",
    "  geom_bar(stat = \"identity\",fill = \"steelblue\") +\n",
    "  coord_flip() +\n",
    "  labs(title = \"Feature Correlations with Heart Disease\", x = \"Features\", y = \"R-squared\")\n",
    "library(ggplot2)\n",
    "\n"
   ]
  },
  {
   "cell_type": "markdown",
   "id": "b5964213",
   "metadata": {
    "papermill": {
     "duration": 0.005269,
     "end_time": "2024-12-03T01:33:25.992386",
     "exception": false,
     "start_time": "2024-12-03T01:33:25.987117",
     "status": "completed"
    },
    "tags": []
   },
   "source": [
    "# Heatmap, predictor correlation\n"
   ]
  },
  {
   "cell_type": "code",
   "execution_count": 5,
   "id": "fcaa7b88",
   "metadata": {
    "execution": {
     "iopub.execute_input": "2024-12-03T01:33:26.007024Z",
     "iopub.status.busy": "2024-12-03T01:33:26.005403Z",
     "iopub.status.idle": "2024-12-03T01:33:26.595528Z",
     "shell.execute_reply": "2024-12-03T01:33:26.593015Z"
    },
    "papermill": {
     "duration": 0.60056,
     "end_time": "2024-12-03T01:33:26.598263",
     "exception": false,
     "start_time": "2024-12-03T01:33:25.997703",
     "status": "completed"
    },
    "tags": []
   },
   "outputs": [
    {
     "name": "stderr",
     "output_type": "stream",
     "text": [
      "\n",
      "Attaching package: ‘reshape2’\n",
      "\n",
      "\n"
     ]
    },
    {
     "name": "stderr",
     "output_type": "stream",
     "text": [
      "The following object is masked from ‘package:tidyr’:\n",
      "\n",
      "    smiths\n",
      "\n",
      "\n"
     ]
    },
    {
     "data": {
      "image/png": "[encoded data removed]"
     },
     "metadata": {
      "image/png": {
       "height": 420,
       "width": 420
      }
     },
     "output_type": "display_data"
    }
   ],
   "source": [
    "#chatgpt implemnation\n",
    "library(ggplot2)\n",
    "library(reshape2)\n",
    "library(dplyr)\n",
    "\n",
    "# Exclude non-numeric columns\n",
    "numeric_HDP <- select_if(HDP, is.numeric)\n",
    "correlation_matrix <- cor(numeric_HDP)\n",
    "\n",
    "# Melt the correlation matrix for ggplot2\n",
    "melted_correlation <- melt(correlation_matrix)\n",
    "\n",
    "# Create the heatmap using ggplot2 \n",
    "ggplot(data = melted_correlation, aes(x = Var1, y = Var2, fill = value)) +\n",
    "  geom_tile(color = \"white\") +\n",
    "  scale_fill_gradient2(low = \"blue\", high = \"red\", mid = \"white\", \n",
    "                       midpoint = 0, limit = c(-1, 1), space = \"Lab\", \n",
    "                       name = \"Correlation\") +\n",
    "  theme_minimal() +\n",
    "  theme(axis.text.x = element_text(angle = 45, vjust = 1, hjust = 1)) +\n",
    "  labs(title = \"Correlation Matrix Heatmap\", x = \"Predictors\", y = \"Predictors\")"
   ]
  },
  {
   "cell_type": "markdown",
   "id": "591b02e0",
   "metadata": {
    "papermill": {
     "duration": 0.006876,
     "end_time": "2024-12-03T01:33:26.612346",
     "exception": false,
     "start_time": "2024-12-03T01:33:26.605470",
     "status": "completed"
    },
    "tags": []
   },
   "source": [
    "# Scaling After splitting\n",
    "https://datascience.stackexchange.com/questions/39932/feature-scaling-both-training-and-test-data\n"
   ]
  },
  {
   "cell_type": "code",
   "execution_count": 6,
   "id": "f3d81637",
   "metadata": {
    "execution": {
     "iopub.execute_input": "2024-12-03T01:33:26.630245Z",
     "iopub.status.busy": "2024-12-03T01:33:26.628530Z",
     "iopub.status.idle": "2024-12-03T01:33:26.703961Z",
     "shell.execute_reply": "2024-12-03T01:33:26.702037Z"
    },
    "papermill": {
     "duration": 0.087017,
     "end_time": "2024-12-03T01:33:26.706447",
     "exception": false,
     "start_time": "2024-12-03T01:33:26.619430",
     "status": "completed"
    },
    "tags": []
   },
   "outputs": [
    {
     "data": {
      "text/html": [
       "<table class=\"dataframe\">\n",
       "<caption>A data.frame: 6 × 14</caption>\n",
       "<thead>\n",
       "\t<tr><th></th><th scope=col>Age</th><th scope=col>Sex</th><th scope=col>Chest.pain.type</th><th scope=col>BP</th><th scope=col>Cholesterol</th><th scope=col>FBS.over.120</th><th scope=col>EKG.results</th><th scope=col>Max.HR</th><th scope=col>Exercise.angina</th><th scope=col>ST.depression</th><th scope=col>Slope.of.ST</th><th scope=col>Number.of.vessels.fluro</th><th scope=col>Thallium</th><th scope=col>Heart.Disease</th></tr>\n",
       "\t<tr><th></th><th scope=col>&lt;dbl&gt;</th><th scope=col>&lt;int&gt;</th><th scope=col>&lt;int&gt;</th><th scope=col>&lt;dbl&gt;</th><th scope=col>&lt;dbl&gt;</th><th scope=col>&lt;int&gt;</th><th scope=col>&lt;int&gt;</th><th scope=col>&lt;dbl&gt;</th><th scope=col>&lt;int&gt;</th><th scope=col>&lt;dbl&gt;</th><th scope=col>&lt;int&gt;</th><th scope=col>&lt;int&gt;</th><th scope=col>&lt;int&gt;</th><th scope=col>&lt;fct&gt;</th></tr>\n",
       "</thead>\n",
       "<tbody>\n",
       "\t<tr><th scope=row>2</th><td> 2.8623041</td><td>0</td><td>3</td><td>-0.9306046</td><td> 6.3715114</td><td>0</td><td>2</td><td> 0.4457210</td><td>0</td><td> 0.4752761</td><td>2</td><td>0</td><td>7</td><td>Absence </td></tr>\n",
       "\t<tr><th scope=row>3</th><td> 0.1115580</td><td>1</td><td>2</td><td>-0.4440271</td><td> 0.2254713</td><td>0</td><td>0</td><td>-0.3712683</td><td>0</td><td>-0.6304200</td><td>1</td><td>0</td><td>7</td><td>Presence</td></tr>\n",
       "\t<tr><th scope=row>12</th><td>-0.1085016</td><td>1</td><td>4</td><td> 0.5291281</td><td>-0.4844674</td><td>0</td><td>2</td><td>-1.6612515</td><td>1</td><td>-0.8855807</td><td>1</td><td>0</td><td>7</td><td>Absence </td></tr>\n",
       "\t<tr><th scope=row>15</th><td> 0.3316177</td><td>0</td><td>4</td><td>-0.2277704</td><td> 1.0773976</td><td>0</td><td>2</td><td> 0.4027216</td><td>0</td><td>-0.8855807</td><td>1</td><td>1</td><td>3</td><td>Absence </td></tr>\n",
       "\t<tr><th scope=row>18</th><td>-0.1085016</td><td>1</td><td>4</td><td> 0.4209997</td><td>-0.9509985</td><td>1</td><td>2</td><td> 0.2307238</td><td>1</td><td> 1.7510793</td><td>3</td><td>0</td><td>7</td><td>Presence</td></tr>\n",
       "\t<tr><th scope=row>19</th><td> 1.1018266</td><td>1</td><td>1</td><td>-1.2009255</td><td>-0.7887268</td><td>0</td><td>2</td><td>-0.2422700</td><td>1</td><td> 0.6453832</td><td>2</td><td>0</td><td>3</td><td>Absence </td></tr>\n",
       "</tbody>\n",
       "</table>\n"
      ],
      "text/latex": [
       "A data.frame: 6 × 14\n",
       "\\begin{tabular}{r|llllllllllllll}\n",
       "  & Age & Sex & Chest.pain.type & BP & Cholesterol & FBS.over.120 & EKG.results & Max.HR & Exercise.angina & ST.depression & Slope.of.ST & Number.of.vessels.fluro & Thallium & Heart.Disease\\\\\n",
       "  & <dbl> & <int> & <int> & <dbl> & <dbl> & <int> & <int> & <dbl> & <int> & <dbl> & <int> & <int> & <int> & <fct>\\\\\n",
       "\\hline\n",
       "\t2 &  2.8623041 & 0 & 3 & -0.9306046 &  6.3715114 & 0 & 2 &  0.4457210 & 0 &  0.4752761 & 2 & 0 & 7 & Absence \\\\\n",
       "\t3 &  0.1115580 & 1 & 2 & -0.4440271 &  0.2254713 & 0 & 0 & -0.3712683 & 0 & -0.6304200 & 1 & 0 & 7 & Presence\\\\\n",
       "\t12 & -0.1085016 & 1 & 4 &  0.5291281 & -0.4844674 & 0 & 2 & -1.6612515 & 1 & -0.8855807 & 1 & 0 & 7 & Absence \\\\\n",
       "\t15 &  0.3316177 & 0 & 4 & -0.2277704 &  1.0773976 & 0 & 2 &  0.4027216 & 0 & -0.8855807 & 1 & 1 & 3 & Absence \\\\\n",
       "\t18 & -0.1085016 & 1 & 4 &  0.4209997 & -0.9509985 & 1 & 2 &  0.2307238 & 1 &  1.7510793 & 3 & 0 & 7 & Presence\\\\\n",
       "\t19 &  1.1018266 & 1 & 1 & -1.2009255 & -0.7887268 & 0 & 2 & -0.2422700 & 1 &  0.6453832 & 2 & 0 & 3 & Absence \\\\\n",
       "\\end{tabular}\n"
      ],
      "text/markdown": [
       "\n",
       "A data.frame: 6 × 14\n",
       "\n",
       "| <!--/--> | Age &lt;dbl&gt; | Sex &lt;int&gt; | Chest.pain.type &lt;int&gt; | BP &lt;dbl&gt; | Cholesterol &lt;dbl&gt; | FBS.over.120 &lt;int&gt; | EKG.results &lt;int&gt; | Max.HR &lt;dbl&gt; | Exercise.angina &lt;int&gt; | ST.depression &lt;dbl&gt; | Slope.of.ST &lt;int&gt; | Number.of.vessels.fluro &lt;int&gt; | Thallium &lt;int&gt; | Heart.Disease &lt;fct&gt; |\n",
       "|---|---|---|---|---|---|---|---|---|---|---|---|---|---|---|\n",
       "| 2 |  2.8623041 | 0 | 3 | -0.9306046 |  6.3715114 | 0 | 2 |  0.4457210 | 0 |  0.4752761 | 2 | 0 | 7 | Absence  |\n",
       "| 3 |  0.1115580 | 1 | 2 | -0.4440271 |  0.2254713 | 0 | 0 | -0.3712683 | 0 | -0.6304200 | 1 | 0 | 7 | Presence |\n",
       "| 12 | -0.1085016 | 1 | 4 |  0.5291281 | -0.4844674 | 0 | 2 | -1.6612515 | 1 | -0.8855807 | 1 | 0 | 7 | Absence  |\n",
       "| 15 |  0.3316177 | 0 | 4 | -0.2277704 |  1.0773976 | 0 | 2 |  0.4027216 | 0 | -0.8855807 | 1 | 1 | 3 | Absence  |\n",
       "| 18 | -0.1085016 | 1 | 4 |  0.4209997 | -0.9509985 | 1 | 2 |  0.2307238 | 1 |  1.7510793 | 3 | 0 | 7 | Presence |\n",
       "| 19 |  1.1018266 | 1 | 1 | -1.2009255 | -0.7887268 | 0 | 2 | -0.2422700 | 1 |  0.6453832 | 2 | 0 | 3 | Absence  |\n",
       "\n"
      ],
      "text/plain": [
       "   Age        Sex Chest.pain.type BP         Cholesterol FBS.over.120\n",
       "2   2.8623041 0   3               -0.9306046  6.3715114  0           \n",
       "3   0.1115580 1   2               -0.4440271  0.2254713  0           \n",
       "12 -0.1085016 1   4                0.5291281 -0.4844674  0           \n",
       "15  0.3316177 0   4               -0.2277704  1.0773976  0           \n",
       "18 -0.1085016 1   4                0.4209997 -0.9509985  1           \n",
       "19  1.1018266 1   1               -1.2009255 -0.7887268  0           \n",
       "   EKG.results Max.HR     Exercise.angina ST.depression Slope.of.ST\n",
       "2  2            0.4457210 0                0.4752761    2          \n",
       "3  0           -0.3712683 0               -0.6304200    1          \n",
       "12 2           -1.6612515 1               -0.8855807    1          \n",
       "15 2            0.4027216 0               -0.8855807    1          \n",
       "18 2            0.2307238 1                1.7510793    3          \n",
       "19 2           -0.2422700 1                0.6453832    2          \n",
       "   Number.of.vessels.fluro Thallium Heart.Disease\n",
       "2  0                       7        Absence      \n",
       "3  0                       7        Presence     \n",
       "12 0                       7        Absence      \n",
       "15 1                       3        Absence      \n",
       "18 0                       7        Presence     \n",
       "19 0                       3        Absence      "
      ]
     },
     "metadata": {},
     "output_type": "display_data"
    }
   ],
   "source": [
    "HDP <- read.csv(file_path)\n",
    "HDP_Processed <- HDP\n",
    "HDP_Processed$Heart.Disease <- as.factor(HDP_Processed$Heart.Disease)# convert Herat.Disease into a factor variable\n",
    "\n",
    "#Objective here is to z score normalize only the continous features, not the binary or ordinal features.\n",
    "# Identify numeric columns\n",
    "numeric_columns <- names(HDP_Correlation)[sapply(HDP_Correlation, is.numeric)]  \n",
    "\n",
    "# identify binary columns\n",
    "binary_columns <- c(\"Sex\", \"FBS.over.120\", \"Exercise.angina\", \"Heart.Disease_binary\")\n",
    "numeric_columns <- setdiff(numeric_columns, binary_columns) # Exclude binary columns from numeric_columns\n",
    "# identify ordinal Ordinal_numerical columns\n",
    "Ordinal_numerical_columns <- c(\"Chest.pain.type\", \"Thallium\", \"EKG.results\", \"Slope.of.ST\", \"Number.of.vessels.fluro\")\n",
    "numeric_columns <- setdiff(numeric_columns, Ordinal_numerical_columns) # Exclude ordinal Ordinal_numerical columns from numeric_columns\n",
    "\n",
    "#train(80%) & test (20%)\n",
    "train_indices <- sample(1:nrow(HDP_Processed), size = 0.8 * nrow(HDP_Processed))\n",
    "train_set <- HDP_Processed[train_indices, ]        \n",
    "test_set <- HDP_Processed[-train_indices, ]  \n",
    "\n",
    "### Scaling the data AFTER we split 80% 20% ###\n",
    "\n",
    "# Compute scaling parameters from the training set\n",
    "train_means <- colMeans(train_set[, numeric_columns])  # Compute column-wise means\n",
    "train_sds <- apply(train_set[, numeric_columns], 2, sd)  # Compute column-wise standard deviations\n",
    "\n",
    "# Scale the training set\n",
    "train_set[, numeric_columns] <- scale(\n",
    "  train_set[, numeric_columns],\n",
    "  center = train_means,\n",
    "  scale = train_sds\n",
    ")\n",
    "# Scale the test set using training set parameters\n",
    "test_set[, numeric_columns] <- scale(\n",
    "  test_set[, numeric_columns],\n",
    "  center = train_means,\n",
    "  scale = train_sds\n",
    ")\n",
    "head(test_set)\n",
    "\n",
    "\n",
    "\n",
    "#Options for handling ordinal Ordinal_numerical variables\n",
    "#1. Encode as numeric. Treat the ordinal categories as numeric values.\n",
    "\n",
    "#2. One-Hot Encoding"
   ]
  },
  {
   "cell_type": "markdown",
   "id": "96db0238",
   "metadata": {
    "papermill": {
     "duration": 0.007339,
     "end_time": "2024-12-03T01:33:26.721099",
     "exception": false,
     "start_time": "2024-12-03T01:33:26.713760",
     "status": "completed"
    },
    "tags": []
   },
   "source": [
    "# Linear SVM\n"
   ]
  },
  {
   "cell_type": "code",
   "execution_count": 7,
   "id": "b736f48c",
   "metadata": {
    "execution": {
     "iopub.execute_input": "2024-12-03T01:33:26.739110Z",
     "iopub.status.busy": "2024-12-03T01:33:26.737465Z",
     "iopub.status.idle": "2024-12-03T01:33:27.638663Z",
     "shell.execute_reply": "2024-12-03T01:33:27.636705Z"
    },
    "papermill": {
     "duration": 0.912794,
     "end_time": "2024-12-03T01:33:27.641078",
     "exception": false,
     "start_time": "2024-12-03T01:33:26.728284",
     "status": "completed"
    },
    "tags": []
   },
   "outputs": [
    {
     "data": {
      "text/html": [
       "216"
      ],
      "text/latex": [
       "216"
      ],
      "text/markdown": [
       "216"
      ],
      "text/plain": [
       "[1] 216"
      ]
     },
     "metadata": {},
     "output_type": "display_data"
    },
    {
     "data": {
      "text/html": [
       "54"
      ],
      "text/latex": [
       "54"
      ],
      "text/markdown": [
       "54"
      ],
      "text/plain": [
       "[1] 54"
      ]
     },
     "metadata": {},
     "output_type": "display_data"
    },
    {
     "data": {
      "text/plain": [
       "\n",
       "Parameter tuning of ‘svm’:\n",
       "\n",
       "- sampling method: 10-fold cross validation \n",
       "\n",
       "- best parameters:\n",
       " cost\n",
       " 0.01\n",
       "\n",
       "- best performance: 0.14329 \n",
       "\n",
       "- Detailed performance results:\n",
       "   cost     error dispersion\n",
       "1  0.01 0.1432900 0.08836425\n",
       "2  0.05 0.1525974 0.08183390\n",
       "3  0.10 0.1569264 0.09289304\n",
       "4  0.50 0.1474026 0.08842108\n",
       "5  1.00 0.1474026 0.08578550\n",
       "6 10.00 0.1519481 0.08895726\n"
      ]
     },
     "metadata": {},
     "output_type": "display_data"
    },
    {
     "name": "stdout",
     "output_type": "stream",
     "text": [
      "Training Error: 0.1435185 \n"
     ]
    },
    {
     "name": "stdout",
     "output_type": "stream",
     "text": [
      "Test Error: 0.2222222 \n"
     ]
    }
   ],
   "source": [
    "library(e1071) #svm package\n",
    "\n",
    "# set seed\n",
    "set.seed(123)\n",
    "\n",
    "# Verify sizes of the sets\n",
    "nrow(train_set)  \n",
    "nrow(test_set)  \n",
    "\n",
    "#tune the svm for differnet parameters\n",
    "tune_result <- tune(\n",
    "  svm,\n",
    "  Heart.Disease ~ .,                 \n",
    "  data = train_set,             # Use the training set created previously\n",
    "  kernel = \"linear\",            # Linear kernel for Support Vector Classifier\n",
    "  ranges = list(cost = c(0.01, 0.05, 0.1, 0.5, 1,10))\n",
    ")\n",
    "\n",
    "summary(tune_result)\n",
    "\n",
    "best_model <- tune_result$best.model\n",
    "train_predictions <- predict(best_model, newdata = train_set)\n",
    "train_error <- mean(train_predictions != train_set$Heart.Disease)\n",
    "cat(\"Training Error:\", train_error, \"\\n\")\n",
    "\n",
    "test_predictions <- predict(best_model, newdata = test_set)\n",
    "test_error <- mean(test_predictions != test_set$Heart.Disease)\n",
    "cat(\"Test Error:\", test_error, \"\\n\")\n"
   ]
  },
  {
   "cell_type": "markdown",
   "id": "6c4ccfd7",
   "metadata": {
    "papermill": {
     "duration": 0.008913,
     "end_time": "2024-12-03T01:33:27.658002",
     "exception": false,
     "start_time": "2024-12-03T01:33:27.649089",
     "status": "completed"
    },
    "tags": []
   },
   "source": [
    "# Fitting best model to full data set\n"
   ]
  },
  {
   "cell_type": "code",
   "execution_count": 8,
   "id": "350ab8d2",
   "metadata": {
    "execution": {
     "iopub.execute_input": "2024-12-03T01:33:27.677094Z",
     "iopub.status.busy": "2024-12-03T01:33:27.675411Z",
     "iopub.status.idle": "2024-12-03T01:33:28.849597Z",
     "shell.execute_reply": "2024-12-03T01:33:28.847568Z"
    },
    "papermill": {
     "duration": 1.186671,
     "end_time": "2024-12-03T01:33:28.852436",
     "exception": false,
     "start_time": "2024-12-03T01:33:27.665765",
     "status": "completed"
    },
    "tags": []
   },
   "outputs": [
    {
     "data": {
      "text/html": [
       "<table class=\"dataframe\">\n",
       "<caption>A data.frame: 6 × 14</caption>\n",
       "<thead>\n",
       "\t<tr><th></th><th scope=col>Age</th><th scope=col>Sex</th><th scope=col>Chest.pain.type</th><th scope=col>BP</th><th scope=col>Cholesterol</th><th scope=col>FBS.over.120</th><th scope=col>EKG.results</th><th scope=col>Max.HR</th><th scope=col>Exercise.angina</th><th scope=col>ST.depression</th><th scope=col>Slope.of.ST</th><th scope=col>Number.of.vessels.fluro</th><th scope=col>Thallium</th><th scope=col>Heart.Disease</th></tr>\n",
       "\t<tr><th></th><th scope=col>&lt;dbl&gt;</th><th scope=col>&lt;int&gt;</th><th scope=col>&lt;int&gt;</th><th scope=col>&lt;dbl&gt;</th><th scope=col>&lt;dbl&gt;</th><th scope=col>&lt;int&gt;</th><th scope=col>&lt;int&gt;</th><th scope=col>&lt;dbl&gt;</th><th scope=col>&lt;int&gt;</th><th scope=col>&lt;dbl&gt;</th><th scope=col>&lt;int&gt;</th><th scope=col>&lt;int&gt;</th><th scope=col>&lt;int&gt;</th><th scope=col>&lt;fct&gt;</th></tr>\n",
       "</thead>\n",
       "<tbody>\n",
       "\t<tr><th scope=row>1</th><td> 1.7304785</td><td>1</td><td>4</td><td>-0.07527007</td><td> 1.3996132</td><td>0</td><td>2</td><td>-1.7559473</td><td>0</td><td> 1.1788233</td><td>2</td><td>3</td><td>3</td><td>Presence</td></tr>\n",
       "\t<tr><th scope=row>2</th><td> 2.8173107</td><td>0</td><td>3</td><td>-0.91506006</td><td> 6.0817107</td><td>0</td><td>2</td><td> 0.4455818</td><td>0</td><td> 0.4802613</td><td>2</td><td>0</td><td>7</td><td>Absence </td></tr>\n",
       "\t<tr><th scope=row>3</th><td> 0.1002301</td><td>1</td><td>2</td><td>-0.41118607</td><td> 0.2194151</td><td>0</td><td>0</td><td>-0.3745957</td><td>0</td><td>-0.6549018</td><td>1</td><td>0</td><td>7</td><td>Presence</td></tr>\n",
       "\t<tr><th scope=row>4</th><td> 1.1870623</td><td>1</td><td>4</td><td>-0.18724207</td><td> 0.2581101</td><td>0</td><td>0</td><td>-1.9286162</td><td>1</td><td>-0.7422221</td><td>2</td><td>1</td><td>7</td><td>Absence </td></tr>\n",
       "\t<tr><th scope=row>5</th><td>-0.9866022</td><td>0</td><td>2</td><td>-0.63513007</td><td> 0.3741952</td><td>0</td><td>2</td><td>-1.2379404</td><td>1</td><td>-0.7422221</td><td>1</td><td>1</td><td>3</td><td>Absence </td></tr>\n",
       "\t<tr><th scope=row>6</th><td>-2.6168506</td><td>1</td><td>4</td><td>-0.63513007</td><td>-1.4057758</td><td>0</td><td>0</td><td>-0.4177629</td><td>0</td><td>-0.5675816</td><td>1</td><td>0</td><td>7</td><td>Absence </td></tr>\n",
       "</tbody>\n",
       "</table>\n"
      ],
      "text/latex": [
       "A data.frame: 6 × 14\n",
       "\\begin{tabular}{r|llllllllllllll}\n",
       "  & Age & Sex & Chest.pain.type & BP & Cholesterol & FBS.over.120 & EKG.results & Max.HR & Exercise.angina & ST.depression & Slope.of.ST & Number.of.vessels.fluro & Thallium & Heart.Disease\\\\\n",
       "  & <dbl> & <int> & <int> & <dbl> & <dbl> & <int> & <int> & <dbl> & <int> & <dbl> & <int> & <int> & <int> & <fct>\\\\\n",
       "\\hline\n",
       "\t1 &  1.7304785 & 1 & 4 & -0.07527007 &  1.3996132 & 0 & 2 & -1.7559473 & 0 &  1.1788233 & 2 & 3 & 3 & Presence\\\\\n",
       "\t2 &  2.8173107 & 0 & 3 & -0.91506006 &  6.0817107 & 0 & 2 &  0.4455818 & 0 &  0.4802613 & 2 & 0 & 7 & Absence \\\\\n",
       "\t3 &  0.1002301 & 1 & 2 & -0.41118607 &  0.2194151 & 0 & 0 & -0.3745957 & 0 & -0.6549018 & 1 & 0 & 7 & Presence\\\\\n",
       "\t4 &  1.1870623 & 1 & 4 & -0.18724207 &  0.2581101 & 0 & 0 & -1.9286162 & 1 & -0.7422221 & 2 & 1 & 7 & Absence \\\\\n",
       "\t5 & -0.9866022 & 0 & 2 & -0.63513007 &  0.3741952 & 0 & 2 & -1.2379404 & 1 & -0.7422221 & 1 & 1 & 3 & Absence \\\\\n",
       "\t6 & -2.6168506 & 1 & 4 & -0.63513007 & -1.4057758 & 0 & 0 & -0.4177629 & 0 & -0.5675816 & 1 & 0 & 7 & Absence \\\\\n",
       "\\end{tabular}\n"
      ],
      "text/markdown": [
       "\n",
       "A data.frame: 6 × 14\n",
       "\n",
       "| <!--/--> | Age &lt;dbl&gt; | Sex &lt;int&gt; | Chest.pain.type &lt;int&gt; | BP &lt;dbl&gt; | Cholesterol &lt;dbl&gt; | FBS.over.120 &lt;int&gt; | EKG.results &lt;int&gt; | Max.HR &lt;dbl&gt; | Exercise.angina &lt;int&gt; | ST.depression &lt;dbl&gt; | Slope.of.ST &lt;int&gt; | Number.of.vessels.fluro &lt;int&gt; | Thallium &lt;int&gt; | Heart.Disease &lt;fct&gt; |\n",
       "|---|---|---|---|---|---|---|---|---|---|---|---|---|---|---|\n",
       "| 1 |  1.7304785 | 1 | 4 | -0.07527007 |  1.3996132 | 0 | 2 | -1.7559473 | 0 |  1.1788233 | 2 | 3 | 3 | Presence |\n",
       "| 2 |  2.8173107 | 0 | 3 | -0.91506006 |  6.0817107 | 0 | 2 |  0.4455818 | 0 |  0.4802613 | 2 | 0 | 7 | Absence  |\n",
       "| 3 |  0.1002301 | 1 | 2 | -0.41118607 |  0.2194151 | 0 | 0 | -0.3745957 | 0 | -0.6549018 | 1 | 0 | 7 | Presence |\n",
       "| 4 |  1.1870623 | 1 | 4 | -0.18724207 |  0.2581101 | 0 | 0 | -1.9286162 | 1 | -0.7422221 | 2 | 1 | 7 | Absence  |\n",
       "| 5 | -0.9866022 | 0 | 2 | -0.63513007 |  0.3741952 | 0 | 2 | -1.2379404 | 1 | -0.7422221 | 1 | 1 | 3 | Absence  |\n",
       "| 6 | -2.6168506 | 1 | 4 | -0.63513007 | -1.4057758 | 0 | 0 | -0.4177629 | 0 | -0.5675816 | 1 | 0 | 7 | Absence  |\n",
       "\n"
      ],
      "text/plain": [
       "  Age        Sex Chest.pain.type BP          Cholesterol FBS.over.120\n",
       "1  1.7304785 1   4               -0.07527007  1.3996132  0           \n",
       "2  2.8173107 0   3               -0.91506006  6.0817107  0           \n",
       "3  0.1002301 1   2               -0.41118607  0.2194151  0           \n",
       "4  1.1870623 1   4               -0.18724207  0.2581101  0           \n",
       "5 -0.9866022 0   2               -0.63513007  0.3741952  0           \n",
       "6 -2.6168506 1   4               -0.63513007 -1.4057758  0           \n",
       "  EKG.results Max.HR     Exercise.angina ST.depression Slope.of.ST\n",
       "1 2           -1.7559473 0                1.1788233    2          \n",
       "2 2            0.4455818 0                0.4802613    2          \n",
       "3 0           -0.3745957 0               -0.6549018    1          \n",
       "4 0           -1.9286162 1               -0.7422221    2          \n",
       "5 2           -1.2379404 1               -0.7422221    1          \n",
       "6 0           -0.4177629 0               -0.5675816    1          \n",
       "  Number.of.vessels.fluro Thallium Heart.Disease\n",
       "1 3                       3        Presence     \n",
       "2 0                       7        Absence      \n",
       "3 0                       7        Presence     \n",
       "4 1                       7        Absence      \n",
       "5 1                       3        Absence      \n",
       "6 0                       7        Absence      "
      ]
     },
     "metadata": {},
     "output_type": "display_data"
    },
    {
     "data": {
      "text/plain": [
       "\n",
       "Parameter tuning of ‘svm’:\n",
       "\n",
       "- sampling method: 10-fold cross validation \n",
       "\n",
       "- best parameters:\n",
       " cost\n",
       " 0.01\n",
       "\n",
       "- best performance: 0.1481481 \n",
       "\n",
       "- Detailed performance results:\n",
       "   cost     error dispersion\n",
       "1  0.01 0.1481481 0.07198706\n",
       "2  0.05 0.1518519 0.06862687\n",
       "3  0.10 0.1518519 0.07895445\n",
       "4  0.50 0.1666667 0.08048398\n",
       "5  1.00 0.1666667 0.07660292\n",
       "6 10.00 0.1666667 0.07660292\n"
      ]
     },
     "metadata": {},
     "output_type": "display_data"
    },
    {
     "name": "stdout",
     "output_type": "stream",
     "text": [
      "[1] 78 76\n"
     ]
    },
    {
     "name": "stdout",
     "output_type": "stream",
     "text": [
      "          Actual\n",
      "Predicted  Absence Presence\n",
      "  Absence      136       24\n",
      "  Presence      14       96\n"
     ]
    },
    {
     "name": "stdout",
     "output_type": "stream",
     "text": [
      "True Positives (TP): 96 \n"
     ]
    },
    {
     "name": "stdout",
     "output_type": "stream",
     "text": [
      "True Negatives (TN): 136 \n"
     ]
    },
    {
     "name": "stdout",
     "output_type": "stream",
     "text": [
      "False Positives (FP): 14 \n"
     ]
    },
    {
     "name": "stdout",
     "output_type": "stream",
     "text": [
      "False Negatives (FN): 24 \n"
     ]
    },
    {
     "data": {
      "image/png": "[encoded data removed]"
     },
     "metadata": {
      "image/png": {
       "height": 420,
       "width": 420
      }
     },
     "output_type": "display_data"
    }
   ],
   "source": [
    "\n",
    "HDP <- read.csv(file_path)\n",
    "HDP_Processed <- HDP\n",
    "HDP_Processed$Heart.Disease <- as.factor(HDP_Processed$Heart.Disease)# convert Herat.Disease into a factor variable\n",
    "\n",
    "#Objective here is to z score normalize only the continous features, not the binary or ordinal features.\n",
    "# Identify numeric columns\n",
    "numeric_columns <- names(HDP_Correlation)[sapply(HDP_Correlation, is.numeric)]  \n",
    "\n",
    "# identify binary columns\n",
    "binary_columns <- c(\"Sex\", \"FBS.over.120\", \"Exercise.angina\", \"Heart.Disease_binary\")\n",
    "numeric_columns <- setdiff(numeric_columns, binary_columns) # Exclude binary columns from numeric_columns\n",
    "# identify ordinal Ordinal_numerical columns\n",
    "Ordinal_numerical_columns <- c(\"Chest.pain.type\", \"Thallium\", \"EKG.results\", \"Slope.of.ST\", \"Number.of.vessels.fluro\")\n",
    "numeric_columns <- setdiff(numeric_columns, Ordinal_numerical_columns) # Exclude ordinal Ordinal_numerical columns from numeric_columns\n",
    "\n",
    "# Initialize scaled data as a copy of the original\n",
    "HDP_fullSet <- HDP_Processed #Initalize HDP_Scaled with HDP_Correlation(only heart.disease is changed here)\n",
    "# Scale only numeric continous columns\n",
    "HDP_fullSet[numeric_columns] <- scale(HDP_Processed[numeric_columns]) #only continous are scaled\n",
    "\n",
    "head(HDP_fullSet)\n",
    "# set seed\n",
    "set.seed(123)\n",
    "\n",
    "#tune the svm for differnet parameters\n",
    "tune_result <- tune(\n",
    "  svm,\n",
    "  Heart.Disease ~ .,                 \n",
    "  data = HDP_fullSet,             # Use the training set created previously\n",
    "  kernel = \"linear\",            # Linear kernel for Support Vector Classifier\n",
    "  ranges = list(cost = c(0.01, 0.05, 0.1, 0.5, 1,10))\n",
    ")\n",
    "\n",
    "#Summary of SVM object\n",
    "summary(tune_result)\n",
    "\n",
    "#number of support vecotrs in each class\n",
    "print(tune_result$best.model$nSV)\n",
    "\n",
    "# Plot decision boundary with two predictors (choose Age and Cholesterol as an example)\n",
    "# Choose predictors with high predictive power, use feature importance metrics or correlation analysis to identify features strongly associated with target variable.\n",
    "plot( \n",
    "  tune_result$best.model,\n",
    "  HDP_fullSet,\n",
    "  Thallium ~ Number.of.vessels.fluro,\n",
    "  slice = list(Max.HR = median(HDP_fullSet$Max.HR)) # Fix Max.HR to its median value\n",
    ")\n",
    "\n",
    "\n",
    "full_predictions <- predict(tune_result$best.model, newdata = HDP_fullSet)\n",
    "\n",
    "# Create a confusion matrix\n",
    "actual <- HDP_fullSet$Heart.Disease\n",
    "confusion_matrix <- table(Predicted = full_predictions, Actual = actual)\n",
    "\n",
    "# Print the confusion matrix\n",
    "print(confusion_matrix)\n",
    "\n",
    "# Extract TP, TN, FP, FN\n",
    "TP <- confusion_matrix[\"Presence\", \"Presence\"]  # Correctly predicted presence\n",
    "TN <- confusion_matrix[\"Absence\", \"Absence\"]    # Correctly predicted absence\n",
    "FP <- confusion_matrix[\"Presence\", \"Absence\"]  # Predicted presence, actual absence\n",
    "FN <- confusion_matrix[\"Absence\", \"Presence\"]  # Predicted absence, actual presence\n",
    "\n",
    "cat(\"True Positives (TP):\", TP, \"\\n\")\n",
    "cat(\"True Negatives (TN):\", TN, \"\\n\")\n",
    "cat(\"False Positives (FP):\", FP, \"\\n\")\n",
    "cat(\"False Negatives (FN):\", FN, \"\\n\")"
   ]
  },
  {
   "cell_type": "markdown",
   "id": "2e85213e",
   "metadata": {
    "papermill": {
     "duration": 0.013224,
     "end_time": "2024-12-03T01:33:28.879857",
     "exception": false,
     "start_time": "2024-12-03T01:33:28.866633",
     "status": "completed"
    },
    "tags": []
   },
   "source": [
    "# Determining Feature Importance in Linear SVM Classifiers\n",
    "WIth linear support vecotr machine, we can find the most important features. A linear svm creates a hyperlane that uses support vectors to maximize the distance between classes. The weights obtained from the svm model coefficients represent the vector coordinates which are orthongal to the hyperplane. The direction indicates the predicted class. The absolute size of the cofficients in relation to each other can then be used to determien feature importance.\n",
    "\n",
    "\n",
    "\n",
    "The absolute value of each coefficient is an indication of the relative importance to determining the decision boundary. A larger coefficient have a greater impact on the decision, while features with near zero are less relevant and can be removed to simplify the model. Furthermore, a positive coefficient suggests a positive relationship, or contribution, to the classificaion of one class, while. a negative coefficient indicate contributes to the other class.an \n",
    "\n",
    "https://www.geeksforgeeks.org/determining-feature-importance-in-svm-classifiers-with-scikit-learn/"
   ]
  },
  {
   "cell_type": "code",
   "execution_count": 9,
   "id": "29035de7",
   "metadata": {
    "execution": {
     "iopub.execute_input": "2024-12-03T01:33:28.906451Z",
     "iopub.status.busy": "2024-12-03T01:33:28.904783Z",
     "iopub.status.idle": "2024-12-03T01:33:29.234292Z",
     "shell.execute_reply": "2024-12-03T01:33:29.232300Z"
    },
    "papermill": {
     "duration": 0.346309,
     "end_time": "2024-12-03T01:33:29.236752",
     "exception": false,
     "start_time": "2024-12-03T01:33:28.890443",
     "status": "completed"
    },
    "tags": []
   },
   "outputs": [
    {
     "data": {
      "text/html": [
       "<table class=\"dataframe\">\n",
       "<caption>A matrix: 1 × 13 of type dbl</caption>\n",
       "<thead>\n",
       "\t<tr><th scope=col>Age</th><th scope=col>Sex</th><th scope=col>Chest.pain.type</th><th scope=col>BP</th><th scope=col>Cholesterol</th><th scope=col>FBS.over.120</th><th scope=col>EKG.results</th><th scope=col>Max.HR</th><th scope=col>Exercise.angina</th><th scope=col>ST.depression</th><th scope=col>Slope.of.ST</th><th scope=col>Number.of.vessels.fluro</th><th scope=col>Thallium</th></tr>\n",
       "</thead>\n",
       "<tbody>\n",
       "\t<tr><td>0.06620306</td><td>0.1497262</td><td>0.1950495</td><td>0.115125</td><td>0.08642137</td><td>-0.01697675</td><td>0.1140727</td><td>-0.1835662</td><td>0.1695119</td><td>0.176327</td><td>0.182209</td><td>0.201164</td><td>0.3119111</td></tr>\n",
       "</tbody>\n",
       "</table>\n"
      ],
      "text/latex": [
       "A matrix: 1 × 13 of type dbl\n",
       "\\begin{tabular}{lllllllllllll}\n",
       " Age & Sex & Chest.pain.type & BP & Cholesterol & FBS.over.120 & EKG.results & Max.HR & Exercise.angina & ST.depression & Slope.of.ST & Number.of.vessels.fluro & Thallium\\\\\n",
       "\\hline\n",
       "\t 0.06620306 & 0.1497262 & 0.1950495 & 0.115125 & 0.08642137 & -0.01697675 & 0.1140727 & -0.1835662 & 0.1695119 & 0.176327 & 0.182209 & 0.201164 & 0.3119111\\\\\n",
       "\\end{tabular}\n"
      ],
      "text/markdown": [
       "\n",
       "A matrix: 1 × 13 of type dbl\n",
       "\n",
       "| Age | Sex | Chest.pain.type | BP | Cholesterol | FBS.over.120 | EKG.results | Max.HR | Exercise.angina | ST.depression | Slope.of.ST | Number.of.vessels.fluro | Thallium |\n",
       "|---|---|---|---|---|---|---|---|---|---|---|---|---|\n",
       "| 0.06620306 | 0.1497262 | 0.1950495 | 0.115125 | 0.08642137 | -0.01697675 | 0.1140727 | -0.1835662 | 0.1695119 | 0.176327 | 0.182209 | 0.201164 | 0.3119111 |\n",
       "\n"
      ],
      "text/plain": [
       "     Age        Sex       Chest.pain.type BP       Cholesterol FBS.over.120\n",
       "[1,] 0.06620306 0.1497262 0.1950495       0.115125 0.08642137  -0.01697675 \n",
       "     EKG.results Max.HR     Exercise.angina ST.depression Slope.of.ST\n",
       "[1,] 0.1140727   -0.1835662 0.1695119       0.176327      0.182209   \n",
       "     Number.of.vessels.fluro Thallium \n",
       "[1,] 0.201164                0.3119111"
      ]
     },
     "metadata": {},
     "output_type": "display_data"
    },
    {
     "data": {
      "image/png": "[encoded data removed]"
     },
     "metadata": {
      "image/png": {
       "height": 420,
       "width": 420
      }
     },
     "output_type": "display_data"
    }
   ],
   "source": [
    "# Get coefficients from linear SVM model (only possible in linear SVM models)\n",
    "coefficients <- t(best_model$coefs) %*% best_model$SV # retrieve the weights of hte features in linear decision boundary\n",
    "head(coefficients)\n",
    "\n",
    "# Calculate absolute feature importance\n",
    "feature_importance <- abs(coefficients)\n",
    "\n",
    "# Assign names\n",
    "colnames(feature_importance) <- colnames(train_set[,-which(names(train_set) == \"Heart.Disease\")])\n",
    "\n",
    "# Convert to a data frame for sorting and visualization\n",
    "feature_importance_df <- data.frame(\n",
    "  Feature = colnames(feature_importance),\n",
    "  Importance = as.numeric(feature_importance)\n",
    ")\n",
    "\n",
    "# Sort by importance\n",
    "feature_importance_df <- feature_importance_df[order(-feature_importance_df$Importance), ]\n",
    "\n",
    "# Plot feature importance\n",
    "ggplot(feature_importance_df, aes(x = reorder(Feature, -Importance), y = Importance)) +\n",
    "  geom_bar(stat = \"identity\", fill = \"steelblue\") +\n",
    "  coord_flip() +\n",
    "  labs(\n",
    "    title = \"Feature Importance (Linear SVM)\",\n",
    "    x = \"Features\",\n",
    "    y = \"Absolute Coefficient\"\n",
    "  ) +\n",
    "  theme_minimal()"
   ]
  },
  {
   "cell_type": "code",
   "execution_count": 10,
   "id": "f4240175",
   "metadata": {
    "execution": {
     "iopub.execute_input": "2024-12-03T01:33:29.261624Z",
     "iopub.status.busy": "2024-12-03T01:33:29.259868Z",
     "iopub.status.idle": "2024-12-03T01:33:30.683825Z",
     "shell.execute_reply": "2024-12-03T01:33:30.681685Z"
    },
    "papermill": {
     "duration": 1.439442,
     "end_time": "2024-12-03T01:33:30.686625",
     "exception": false,
     "start_time": "2024-12-03T01:33:29.247183",
     "status": "completed"
    },
    "tags": []
   },
   "outputs": [
    {
     "data": {
      "text/plain": [
       "\n",
       "Parameter tuning of ‘svm’:\n",
       "\n",
       "- sampling method: 10-fold cross validation \n",
       "\n",
       "- best parameters:\n",
       " cost degree\n",
       "    1      3\n",
       "\n",
       "- best performance: 0.1896104 \n",
       "\n",
       "- Detailed performance results:\n",
       "    cost degree     error dispersion\n",
       "1   0.01      2 0.4543290 0.10072858\n",
       "2   0.05      2 0.4543290 0.10072858\n",
       "3   0.10      2 0.4357143 0.09152003\n",
       "4   0.50      2 0.3571429 0.12550380\n",
       "5   1.00      2 0.3658009 0.11497924\n",
       "6  10.00      2 0.3383117 0.05478704\n",
       "7   0.01      3 0.4543290 0.10072858\n",
       "8   0.05      3 0.3707792 0.08759655\n",
       "9   0.10      3 0.2781385 0.11544124\n",
       "10  0.50      3 0.1939394 0.10629937\n",
       "11  1.00      3 0.1896104 0.07194922\n",
       "12 10.00      3 0.2363636 0.08986551\n"
      ]
     },
     "metadata": {},
     "output_type": "display_data"
    },
    {
     "name": "stdout",
     "output_type": "stream",
     "text": [
      "\n",
      "Call:\n",
      "best.tune(METHOD = svm, train.x = Heart.Disease ~ ., data = train_set, \n",
      "    ranges = list(cost = c(0.01, 0.05, 0.1, 0.5, 1, 10), degree = c(2, \n",
      "        3)), kernel = \"polynomial\")\n",
      "\n",
      "\n",
      "Parameters:\n",
      "   SVM-Type:  C-classification \n",
      " SVM-Kernel:  polynomial \n",
      "       cost:  1 \n",
      "     degree:  3 \n",
      "     coef.0:  0 \n",
      "\n",
      "Number of Support Vectors:  134\n",
      "\n"
     ]
    },
    {
     "name": "stdout",
     "output_type": "stream",
     "text": [
      "Training Error: 0.06481481 \n"
     ]
    },
    {
     "name": "stdout",
     "output_type": "stream",
     "text": [
      "Test Error: 0.2222222 \n"
     ]
    }
   ],
   "source": [
    "# set seed\n",
    "set.seed(123)\n",
    "\n",
    "#tune the svm for differnet parameters\n",
    "tune_result <- tune(\n",
    "  svm,\n",
    "  Heart.Disease ~ .,                 \n",
    "  data = train_set,             # Use the training set created previously\n",
    "  kernel = \"polynomial\",         \n",
    "  ranges = list(cost = c(0.01, 0.05, 0.1, 0.5, 1,10), degree = c(2,3))\n",
    ")\n",
    "\n",
    "summary(tune_result)\n",
    "\n",
    "best_model <- tune_result$best.model\n",
    "print(best_model)\n",
    "train_predictions <- predict(best_model, newdata = train_set)\n",
    "train_error <- mean(train_predictions != train_set$Heart.Disease)\n",
    "cat(\"Training Error:\", train_error, \"\\n\")\n",
    "\n",
    "test_predictions <- predict(best_model, newdata = test_set)\n",
    "test_error <- mean(test_predictions != test_set$Heart.Disease)\n",
    "cat(\"Test Error:\", test_error, \"\\n\")"
   ]
  },
  {
   "cell_type": "code",
   "execution_count": 11,
   "id": "e58d6d7f",
   "metadata": {
    "execution": {
     "iopub.execute_input": "2024-12-03T01:33:30.712378Z",
     "iopub.status.busy": "2024-12-03T01:33:30.710692Z",
     "iopub.status.idle": "2024-12-03T01:33:31.823819Z",
     "shell.execute_reply": "2024-12-03T01:33:31.821707Z"
    },
    "papermill": {
     "duration": 1.128898,
     "end_time": "2024-12-03T01:33:31.826472",
     "exception": false,
     "start_time": "2024-12-03T01:33:30.697574",
     "status": "completed"
    },
    "tags": []
   },
   "outputs": [
    {
     "data": {
      "text/plain": [
       "\n",
       "Parameter tuning of ‘svm’:\n",
       "\n",
       "- sampling method: 10-fold cross validation \n",
       "\n",
       "- best parameters:\n",
       " cost gamma\n",
       " 0.01     2\n",
       "\n",
       "- best performance: 0.454329 \n",
       "\n",
       "- Detailed performance results:\n",
       "  cost gamma    error dispersion\n",
       "1 0.01     2 0.454329  0.1007286\n",
       "2 0.05     2 0.454329  0.1007286\n",
       "3 0.10     2 0.454329  0.1007286\n",
       "4 0.50     2 0.454329  0.1007286\n",
       "5 0.01     3 0.454329  0.1007286\n",
       "6 0.05     3 0.454329  0.1007286\n",
       "7 0.10     3 0.454329  0.1007286\n",
       "8 0.50     3 0.454329  0.1007286\n"
      ]
     },
     "metadata": {},
     "output_type": "display_data"
    },
    {
     "name": "stdout",
     "output_type": "stream",
     "text": [
      "Training Error: 0.4537037 \n"
     ]
    },
    {
     "name": "stdout",
     "output_type": "stream",
     "text": [
      "Test Error: 0.4074074 \n"
     ]
    }
   ],
   "source": [
    "# set seed\n",
    "set.seed(123)\n",
    "# SVM expects numeric for regression tasks. \n",
    "# Heart.Disease is Ordinal_numerical.\n",
    "# convert Herat.Disease into a facotr varaible\n",
    "#HDP$Heart.Disease <- as.factor(HDP$Heart.Disease)\n",
    "\n",
    "#normalize\n",
    "\n",
    "#train(80%) & test (20%)\n",
    "#train_indices <- sample(1:nrow(HDP), size = 0.8 * nrow(HDP))\n",
    "#train_set <- HDP[train_indices, ]        \n",
    "#test_set <- HDP[-train_indices, ]  \n",
    "\n",
    "#tune the svm for differnet parameters\n",
    "tune_result <- tune(\n",
    "  svm,\n",
    "  Heart.Disease ~ .,                 \n",
    "  data = train_set,             # Use the training set created previously\n",
    "  kernel = \"radial\",         \n",
    "  ranges = list(cost = c(0.01, 0.05, 0.1, 0.5), gamma = c(2,3))\n",
    ")\n",
    "\n",
    "summary(tune_result)\n",
    "\n",
    "best_model <- tune_result$best.model\n",
    "train_predictions <- predict(best_model, newdata = train_set)\n",
    "train_error <- mean(train_predictions != train_set$Heart.Disease)\n",
    "cat(\"Training Error:\", train_error, \"\\n\")\n",
    "\n",
    "test_predictions <- predict(best_model, newdata = test_set)\n",
    "test_error <- mean(test_predictions != test_set$Heart.Disease)\n",
    "cat(\"Test Error:\", test_error, \"\\n\")"
   ]
  },
  {
   "cell_type": "markdown",
   "id": "d65ef667",
   "metadata": {
    "papermill": {
     "duration": 0.010956,
     "end_time": "2024-12-03T01:33:31.848711",
     "exception": false,
     "start_time": "2024-12-03T01:33:31.837755",
     "status": "completed"
    },
    "tags": []
   },
   "source": []
  }
 ],
 "metadata": {
  "kaggle": {
   "accelerator": "none",
   "dataSources": [
    {
     "datasetId": 6045623,
     "sourceId": 9852388,
     "sourceType": "datasetVersion"
    }
   ],
   "dockerImageVersionId": 30749,
   "isGpuEnabled": false,
   "isInternetEnabled": true,
   "language": "r",
   "sourceType": "notebook"
  },
  "kernelspec": {
   "display_name": "R",
   "language": "R",
   "name": "ir"
  },
  "language_info": {
   "codemirror_mode": "r",
   "file_extension": ".r",
   "mimetype": "text/x-r-source",
   "name": "R",
   "pygments_lexer": "r",
   "version": "4.4.0"
  },
  "papermill": {
   "default_parameters": {},
   "duration": 12.009279,
   "end_time": "2024-12-03T01:33:31.984089",
   "environment_variables": {},
   "exception": null,
   "input_path": "__notebook__.ipynb",
   "output_path": "__notebook__.ipynb",
   "parameters": {},
   "start_time": "2024-12-03T01:33:19.974810",
   "version": "2.6.0"
  }
 },
 "nbformat": 4,
 "nbformat_minor": 5
}
